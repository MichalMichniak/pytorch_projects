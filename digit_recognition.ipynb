{
  "cells": [
    {
      "cell_type": "code",
      "execution_count": 68,
      "metadata": {
        "id": "mLF8mOik8X1h"
      },
      "outputs": [],
      "source": [
        "import torch\n",
        "import torch.nn as nn\n",
        "from sklearn.datasets import load_digits\n",
        "from sklearn.model_selection import train_test_split\n",
        "import matplotlib.pyplot as plt\n",
        "import numpy as np\n",
        "from sklearn.preprocessing import StandardScaler"
      ]
    },
    {
      "cell_type": "code",
      "execution_count": 69,
      "metadata": {
        "colab": {
          "base_uri": "https://localhost:8080/",
          "height": 232
        },
        "id": "6GwH3A8U8X1h",
        "outputId": "fb851e7a-e9d5-48ce-aae2-2e76084ad898"
      },
      "outputs": [
        {
          "data": {
            "image/png": "[encoded data removed]",
            "text/plain": [
              "<Figure size 576x216 with 3 Axes>"
            ]
          },
          "metadata": {
            "needs_background": "light"
          },
          "output_type": "display_data"
        }
      ],
      "source": [
        "data_digits = load_digits()\n",
        "fig,ax = plt.subplots(1,3)\n",
        "fig.set_size_inches(8,3)\n",
        "for i in range(3):  \n",
        "    ax[i].imshow(data_digits.images[i], cmap='gray')\n",
        "    ax[i].set_title(data_digits.target[i])\n",
        "    ax[i].set_axis_off()\n",
        "fig.suptitle(\"sample data\")\n",
        "plt.tight_layout()\n",
        "plt.show()"
      ]
    },
    {
      "cell_type": "markdown",
      "metadata": {
        "id": "BR87sASO8X1i"
      },
      "source": [
        "##### Number distribution in dataset"
      ]
    },
    {
      "cell_type": "code",
      "execution_count": 70,
      "metadata": {
        "colab": {
          "base_uri": "https://localhost:8080/",
          "height": 295
        },
        "id": "FHJ79Zyj8X1i",
        "outputId": "c8ba387f-1106-42e6-f85d-c50db01f312e"
      },
      "outputs": [
        {
          "data": {
            "image/png": "[encoded data removed]",
            "text/plain": [
              "<Figure size 432x288 with 1 Axes>"
            ]
          },
          "metadata": {
            "needs_background": "light"
          },
          "output_type": "display_data"
        }
      ],
      "source": [
        "plt.hist(data_digits.target, bins=10, rwidth=0.9)#\n",
        "plt.xticks([0.5 + (i)*9/10 for i in range(len(data_digits.target_names))],data_digits.target_names)\n",
        "plt.xlabel(\"number symbol\")\n",
        "plt.ylabel(\"total count\")\n",
        "plt.title(\"distribution of the numbers in dataset\")\n",
        "plt.show()"
      ]
    },
    {
      "cell_type": "markdown",
      "metadata": {
        "id": "KRGLJ21N8X1j"
      },
      "source": [
        "## Model"
      ]
    },
    {
      "cell_type": "code",
      "execution_count": 71,
      "metadata": {
        "id": "gMFLYaDm8X1j"
      },
      "outputs": [],
      "source": [
        "from typing import Tuple\n",
        "class CNN(nn.Module):\n",
        "    def __init__(self) -> None:\n",
        "        super().__init__()\n",
        "        self.conv1 = nn.Conv2d(1,6,3)\n",
        "        self.conv2 = nn.Conv2d(6,24,3)\n",
        "        self.pool1 = nn.MaxPool2d(2,2)\n",
        "        self.flatten1 = nn.Flatten()\n",
        "        self.flatten2 = nn.Flatten(-2, 1)\n",
        "        self.FC1 = nn.Linear(96, 20)\n",
        "        self.dropout1 = nn.Dropout(p=0.1)\n",
        "        self.dropout2 = nn.Dropout(p=0.1)\n",
        "        self.FC2 = nn.Linear(20,12)\n",
        "        self.out = nn.Linear(12,10)\n",
        "        self.model = nn.Sequential(\n",
        "            self.conv1,\n",
        "            nn.ReLU(),\n",
        "            self.conv2,\n",
        "            nn.ReLU(),\n",
        "            self.pool1,\n",
        "            self.flatten1,\n",
        "            self.flatten2,\n",
        "            self.dropout1,\n",
        "            self.FC1,\n",
        "            nn.ReLU(),\n",
        "            self.dropout2,\n",
        "            self.FC2,\n",
        "            nn.ReLU(),\n",
        "            self.out,\n",
        "            nn.Softmax(dim = -1)\n",
        "        )\n",
        "\n",
        "    def forward(self,input):\n",
        "        return self.model(input)\n"
      ]
    },
    {
      "cell_type": "code",
      "execution_count": 72,
      "metadata": {
        "id": "EFH2EyF58X1j"
      },
      "outputs": [],
      "source": [
        "x = torch.from_numpy(data_digits.images).type(torch.float)\n",
        "y = torch.from_numpy(data_digits.target).type(torch.float)\n",
        "xtrain, xtest, ytrain, ytest = train_test_split(x, y, test_size=0.2, random_state=12)"
      ]
    },
    {
      "cell_type": "code",
      "execution_count": 73,
      "metadata": {
        "colab": {
          "base_uri": "https://localhost:8080/"
        },
        "id": "I-ERRgpR8X1j",
        "outputId": "0bdd0fe7-6766-4a18-ca9d-f70dbd0e94b4"
      },
      "outputs": [
        {
          "name": "stdout",
          "output_type": "stream",
          "text": [
            "tensor([0.0799, 0.0837, 0.1211, 0.0917, 0.0964, 0.1300, 0.1056, 0.0814, 0.1244,\n",
            "        0.0856])\n"
          ]
        }
      ],
      "source": [
        "model_0 = CNN()\n",
        "with torch.inference_mode():\n",
        "    pred = model_0(torch.reshape(xtrain[0], (1, 8, 8)))\n",
        "    print(pred)"
      ]
    },
    {
      "cell_type": "code",
      "execution_count": 74,
      "metadata": {
        "id": "Dpcn8q2m8X1j"
      },
      "outputs": [],
      "source": [
        "from torch.optim import SGD\n",
        "def train(model : CNN, nr_epoch, train_data, train_target, test_data, test_target, learning_rate = 1e-4):\n",
        "    optimizer = SGD(model.parameters(), momentum=0.1, lr = learning_rate)\n",
        "    loss_func = nn.CrossEntropyLoss()\n",
        "    test_acc_hist = []\n",
        "    train_acc_hist = []\n",
        "    test_loss_hist = []\n",
        "    train_loss_hist = []\n",
        "    batch_size = 9\n",
        "    optimizer.zero_grad()\n",
        "    for epoch in range(nr_epoch):\n",
        "        epoch_loss = 0.0\n",
        "        epoch_accuracy = 0.0\n",
        "        for t in range(len(train_data)):\n",
        "            prediction = model(torch.reshape(train_data[t], (1, 8, 8)))\n",
        "            target_value = torch.tensor([(0 if i != train_target[t] else 1) for i in range(10)],dtype=torch.float)\n",
        "            loss_value = loss_func(prediction,target_value)\n",
        "            loss_value.backward()\n",
        "            if (t+1)%batch_size == 0:\n",
        "                optimizer.step()\n",
        "                optimizer.zero_grad()\n",
        "            epoch_loss += loss_value.item()\n",
        "            if torch.argmax(prediction) == train_target[t]:\n",
        "                epoch_accuracy += 1\n",
        "        epoch_test_loss = 0.0\n",
        "        epoch_test_accuracy = 0.0\n",
        "        with torch.inference_mode():\n",
        "            for i in range(len(test_data)):\n",
        "                prediction = model(torch.reshape(test_data[i], (1, 8, 8)))\n",
        "                target_value = torch.tensor([(0 if j != test_target[i] else 1) for j in range(10)],dtype=torch.float)\n",
        "                loss_value = loss_func(prediction,target_value)\n",
        "                epoch_test_loss+=loss_value.item()\n",
        "                if torch.argmax(prediction) == test_target[i]:\n",
        "                    epoch_test_accuracy += 1\n",
        "            \n",
        "        \n",
        "        print(f\"\"\"[{epoch}] avg loss: {epoch_loss/len(train_data)}, avg test loss: {epoch_test_loss/len(test_data)},\n",
        "              train accuracy: {epoch_accuracy/len(train_data)}, test accuracy: {epoch_test_accuracy/len(test_data)}\n",
        "              \"\"\")\n",
        "        test_acc_hist.append(epoch_test_accuracy/len(test_data))\n",
        "        train_acc_hist.append(epoch_accuracy/len(train_data))\n",
        "        test_loss_hist.append(epoch_test_loss/len(test_data))\n",
        "        train_loss_hist.append(epoch_loss/len(train_data))\n",
        "    return test_acc_hist,train_acc_hist,test_loss_hist,train_loss_hist\n",
        "\n"
      ]
    },
    {
      "cell_type": "code",
      "execution_count": 75,
      "metadata": {
        "colab": {
          "base_uri": "https://localhost:8080/"
        },
        "id": "Qu6UDHyl8X1k",
        "outputId": "dddb2c05-5c06-49ab-a9f0-29bfcc6ea8d3"
      },
      "outputs": [
        {
          "name": "stdout",
          "output_type": "stream",
          "text": [
            "[0] avg loss: 2.3028690644080387, avg test loss: 2.303454013665517,\n",
            "              train accuracy: 0.10786360473208072, test accuracy: 0.10833333333333334\n",
            "              \n",
            "[1] avg loss: 2.302422429757062, avg test loss: 2.3031848616070216,\n",
            "              train accuracy: 0.10508002783576896, test accuracy: 0.09722222222222222\n",
            "              \n",
            "[2] avg loss: 2.302032573072132, avg test loss: 2.302615765068266,\n",
            "              train accuracy: 0.10508002783576896, test accuracy: 0.1\n",
            "              \n",
            "[3] avg loss: 2.301284693311135, avg test loss: 2.3020725780063205,\n",
            "              train accuracy: 0.10368823938761308, test accuracy: 0.09722222222222222\n",
            "              \n",
            "[4] avg loss: 2.3001797768334673, avg test loss: 2.300503228770362,\n",
            "              train accuracy: 0.10368823938761308, test accuracy: 0.09444444444444444\n",
            "              \n",
            "[5] avg loss: 2.2978692034838843, avg test loss: 2.296891109810935,\n",
            "              train accuracy: 0.1057759220598469, test accuracy: 0.10277777777777777\n",
            "              \n",
            "[6] avg loss: 2.287413020721308, avg test loss: 2.274211045106252,\n",
            "              train accuracy: 0.116214335421016, test accuracy: 0.1111111111111111\n",
            "              \n",
            "[7] avg loss: 2.229027725377677, avg test loss: 2.196239502562417,\n",
            "              train accuracy: 0.2219902574808629, test accuracy: 0.24444444444444444\n",
            "              \n",
            "[8] avg loss: 2.1410170908843633, avg test loss: 2.1273333936929704,\n",
            "              train accuracy: 0.29227557411273486, test accuracy: 0.3055555555555556\n",
            "              \n",
            "[9] avg loss: 2.031593008761449, avg test loss: 1.9478173560566372,\n",
            "              train accuracy: 0.4384133611691023, test accuracy: 0.5444444444444444\n",
            "              \n",
            "[10] avg loss: 1.876025940364819, avg test loss: 1.9195197065671286,\n",
            "              train accuracy: 0.6026443980514962, test accuracy: 0.5472222222222223\n",
            "              \n",
            "[11] avg loss: 1.835946465334962, avg test loss: 1.8727302124102911,\n",
            "              train accuracy: 0.6332637439109255, test accuracy: 0.5944444444444444\n",
            "              \n",
            "[12] avg loss: 1.8172899355221392, avg test loss: 1.8157607916328642,\n",
            "              train accuracy: 0.6457898399443285, test accuracy: 0.65\n",
            "              \n",
            "[13] avg loss: 1.7946375939442867, avg test loss: 1.7927701652050019,\n",
            "              train accuracy: 0.6722338204592901, test accuracy: 0.675\n",
            "              \n",
            "[14] avg loss: 1.7540400388262383, avg test loss: 1.7573565509584215,\n",
            "              train accuracy: 0.7132915796798887, test accuracy: 0.7138888888888889\n",
            "              \n",
            "[15] avg loss: 1.7405983850868028, avg test loss: 1.7518072734276453,\n",
            "              train accuracy: 0.7286012526096033, test accuracy: 0.7138888888888889\n",
            "              \n",
            "[16] avg loss: 1.7252516084523688, avg test loss: 1.726696609126197,\n",
            "              train accuracy: 0.7411273486430062, test accuracy: 0.7361111111111112\n",
            "              \n",
            "[17] avg loss: 1.7106426425832961, avg test loss: 1.7407481789588928,\n",
            "              train accuracy: 0.7571329157967989, test accuracy: 0.7222222222222222\n",
            "              \n",
            "[18] avg loss: 1.7082178059268014, avg test loss: 1.711874962846438,\n",
            "              train accuracy: 0.7585247042449548, test accuracy: 0.75\n",
            "              \n",
            "[19] avg loss: 1.6952286211251384, avg test loss: 1.7140028513140149,\n",
            "              train accuracy: 0.7703549060542797, test accuracy: 0.7583333333333333\n",
            "              \n",
            "[20] avg loss: 1.699263597745902, avg test loss: 1.6923904210329055,\n",
            "              train accuracy: 0.7647877522616562, test accuracy: 0.7666666666666667\n",
            "              \n",
            "[21] avg loss: 1.693516894106908, avg test loss: 1.696658882829878,\n",
            "              train accuracy: 0.7731384829505915, test accuracy: 0.7666666666666667\n",
            "              \n",
            "[22] avg loss: 1.6831440831856672, avg test loss: 1.6906780478027132,\n",
            "              train accuracy: 0.7807933194154488, test accuracy: 0.7722222222222223\n",
            "              \n",
            "[23] avg loss: 1.6947588967878784, avg test loss: 1.6931082440747156,\n",
            "              train accuracy: 0.7640918580375783, test accuracy: 0.7694444444444445\n",
            "              \n",
            "[24] avg loss: 1.688106861973937, avg test loss: 1.689527196685473,\n",
            "              train accuracy: 0.7731384829505915, test accuracy: 0.775\n",
            "              \n",
            "[25] avg loss: 1.6803608917907948, avg test loss: 1.6877782172626918,\n",
            "              train accuracy: 0.7821851078636047, test accuracy: 0.775\n",
            "              \n",
            "[26] avg loss: 1.6782996423889882, avg test loss: 1.6917998512585959,\n",
            "              train accuracy: 0.7835768963117606, test accuracy: 0.775\n",
            "              \n",
            "[27] avg loss: 1.6737186346273083, avg test loss: 1.660500697294871,\n",
            "              train accuracy: 0.7877522616562282, test accuracy: 0.8055555555555556\n",
            "              \n",
            "[28] avg loss: 1.6598216413870899, avg test loss: 1.6730500525898404,\n",
            "              train accuracy: 0.8058455114822547, test accuracy: 0.7916666666666666\n",
            "              \n",
            "[29] avg loss: 1.635812151075322, avg test loss: 1.6479517463180753,\n",
            "              train accuracy: 0.8343771746694503, test accuracy: 0.8111111111111111\n",
            "              \n",
            "[30] avg loss: 1.626098536748229, avg test loss: 1.634071695804596,\n",
            "              train accuracy: 0.8392484342379958, test accuracy: 0.8277777777777777\n",
            "              \n",
            "[31] avg loss: 1.6127059925904934, avg test loss: 1.6237484299474292,\n",
            "              train accuracy: 0.8503827418232429, test accuracy: 0.8416666666666667\n",
            "              \n",
            "[32] avg loss: 1.6091945426863934, avg test loss: 1.625608002808359,\n",
            "              train accuracy: 0.8552540013917884, test accuracy: 0.8277777777777777\n",
            "              \n",
            "[33] avg loss: 1.6049650101173896, avg test loss: 1.6188160647948584,\n",
            "              train accuracy: 0.8587334725121781, test accuracy: 0.8444444444444444\n",
            "              \n",
            "[34] avg loss: 1.6048447748149695, avg test loss: 1.6147849026653502,\n",
            "              train accuracy: 0.860125260960334, test accuracy: 0.8472222222222222\n",
            "              \n",
            "[35] avg loss: 1.598295044384653, avg test loss: 1.6188672201500998,\n",
            "              train accuracy: 0.8677800974251914, test accuracy: 0.8416666666666667\n",
            "              \n",
            "[36] avg loss: 1.5937210654084186, avg test loss: 1.626161156429185,\n",
            "              train accuracy: 0.8698677800974252, test accuracy: 0.8361111111111111\n",
            "              \n",
            "[37] avg loss: 1.595955702855343, avg test loss: 1.6193627814451854,\n",
            "              train accuracy: 0.8698677800974252, test accuracy: 0.8444444444444444\n",
            "              \n",
            "[38] avg loss: 1.5968808993417187, avg test loss: 1.6168549276060529,\n",
            "              train accuracy: 0.8684759916492694, test accuracy: 0.8472222222222222\n",
            "              \n",
            "[39] avg loss: 1.5942047109351691, avg test loss: 1.6293806496593688,\n",
            "              train accuracy: 0.8684759916492694, test accuracy: 0.8333333333333334\n",
            "              \n",
            "[40] avg loss: 1.6042418479089864, avg test loss: 1.6189086414045757,\n",
            "              train accuracy: 0.860125260960334, test accuracy: 0.85\n",
            "              \n",
            "[41] avg loss: 1.5912521543316984, avg test loss: 1.619012145863639,\n",
            "              train accuracy: 0.8663883089770354, test accuracy: 0.8333333333333334\n",
            "              \n",
            "[42] avg loss: 1.572326050255974, avg test loss: 1.557198817200131,\n",
            "              train accuracy: 0.8956158663883089, test accuracy: 0.9138888888888889\n",
            "              \n",
            "[43] avg loss: 1.5263426914427458, avg test loss: 1.5300048960579766,\n",
            "              train accuracy: 0.942936673625609, test accuracy: 0.9333333333333333\n",
            "              \n",
            "[44] avg loss: 1.5151331041451537, avg test loss: 1.5502566930320527,\n",
            "              train accuracy: 0.953375086986778, test accuracy: 0.9083333333333333\n",
            "              \n",
            "[45] avg loss: 1.5148784332832863, avg test loss: 1.5455630822314157,\n",
            "              train accuracy: 0.9491997216423104, test accuracy: 0.9194444444444444\n",
            "              \n",
            "[46] avg loss: 1.5089999598268842, avg test loss: 1.535815585984124,\n",
            "              train accuracy: 0.9575504523312457, test accuracy: 0.9333333333333333\n",
            "              \n",
            "[47] avg loss: 1.5099867683528776, avg test loss: 1.5196080012453927,\n",
            "              train accuracy: 0.9547668754349339, test accuracy: 0.9388888888888889\n",
            "              \n",
            "[48] avg loss: 1.5032373648512753, avg test loss: 1.5169167386160956,\n",
            "              train accuracy: 0.9631176061238692, test accuracy: 0.9444444444444444\n",
            "              \n",
            "[49] avg loss: 1.498493549470364, avg test loss: 1.5547158519426982,\n",
            "              train accuracy: 0.9638135003479471, test accuracy: 0.9111111111111111\n",
            "              \n",
            "[50] avg loss: 1.4976969991364077, avg test loss: 1.5256847437885073,\n",
            "              train accuracy: 0.9686847599164927, test accuracy: 0.9444444444444444\n",
            "              \n",
            "[51] avg loss: 1.49251436871958, avg test loss: 1.515165722039011,\n",
            "              train accuracy: 0.9714683368128044, test accuracy: 0.9444444444444444\n",
            "              \n",
            "[52] avg loss: 1.5014119204665193, avg test loss: 1.525709068775177,\n",
            "              train accuracy: 0.9617258176757133, test accuracy: 0.9361111111111111\n",
            "              \n",
            "[53] avg loss: 1.4990388458606345, avg test loss: 1.5203739689456093,\n",
            "              train accuracy: 0.9665970772442589, test accuracy: 0.9444444444444444\n",
            "              \n",
            "[54] avg loss: 1.490055996424304, avg test loss: 1.5302295479509564,\n",
            "              train accuracy: 0.9728601252609603, test accuracy: 0.9333333333333333\n",
            "              \n",
            "[55] avg loss: 1.49383721462786, avg test loss: 1.522804116209348,\n",
            "              train accuracy: 0.9700765483646486, test accuracy: 0.9333333333333333\n",
            "              \n",
            "[56] avg loss: 1.4881345348882442, avg test loss: 1.5203747302293777,\n",
            "              train accuracy: 0.9742519137091162, test accuracy: 0.9416666666666667\n",
            "              \n",
            "[57] avg loss: 1.4935586992534566, avg test loss: 1.5353057053354051,\n",
            "              train accuracy: 0.9707724425887265, test accuracy: 0.925\n",
            "              \n",
            "[58] avg loss: 1.4921864925695112, avg test loss: 1.5411667118469874,\n",
            "              train accuracy: 0.9728601252609603, test accuracy: 0.9138888888888889\n",
            "              \n",
            "[59] avg loss: 1.487214036011082, avg test loss: 1.5173582586977217,\n",
            "              train accuracy: 0.9770354906054279, test accuracy: 0.9472222222222222\n",
            "              \n",
            "[60] avg loss: 1.4945702480622771, avg test loss: 1.5182901789744696,\n",
            "              train accuracy: 0.9679888656924147, test accuracy: 0.9472222222222222\n",
            "              \n",
            "[61] avg loss: 1.498677987146477, avg test loss: 1.5350869652297763,\n",
            "              train accuracy: 0.9631176061238692, test accuracy: 0.9277777777777778\n",
            "              \n",
            "[62] avg loss: 1.4909875343139585, avg test loss: 1.5249394135342704,\n",
            "              train accuracy: 0.9707724425887265, test accuracy: 0.9361111111111111\n",
            "              \n",
            "[63] avg loss: 1.4932900324577911, avg test loss: 1.522215743197335,\n",
            "              train accuracy: 0.9714683368128044, test accuracy: 0.9416666666666667\n",
            "              \n",
            "[64] avg loss: 1.4916114098675648, avg test loss: 1.5150360259744855,\n",
            "              train accuracy: 0.9721642310368824, test accuracy: 0.95\n",
            "              \n",
            "[65] avg loss: 1.4827074709250516, avg test loss: 1.496579083469179,\n",
            "              train accuracy: 0.9798190675017397, test accuracy: 0.9666666666666667\n",
            "              \n",
            "[66] avg loss: 1.4799735016016473, avg test loss: 1.5135807298951678,\n",
            "              train accuracy: 0.9832985386221295, test accuracy: 0.95\n",
            "              \n",
            "[67] avg loss: 1.4903021116761093, avg test loss: 1.4991150968604618,\n",
            "              train accuracy: 0.9735560194850382, test accuracy: 0.9611111111111111\n",
            "              \n",
            "[68] avg loss: 1.484667183213045, avg test loss: 1.5343051824304792,\n",
            "              train accuracy: 0.9791231732776617, test accuracy: 0.9305555555555556\n",
            "              \n",
            "[69] avg loss: 1.4907469781803935, avg test loss: 1.5097158441940943,\n",
            "              train accuracy: 0.9707724425887265, test accuracy: 0.9527777777777777\n",
            "              \n"
          ]
        }
      ],
      "source": [
        "test_acc_hist,train_acc_hist,test_loss_hist,train_loss_hist = train(model_0,70,xtrain,ytrain,xtest,ytest,learning_rate=0.003)\n"
      ]
    },
    {
      "attachments": {},
      "cell_type": "markdown",
      "metadata": {},
      "source": [
        "## Validation"
      ]
    },
    {
      "cell_type": "code",
      "execution_count": 76,
      "metadata": {
        "colab": {
          "base_uri": "https://localhost:8080/",
          "height": 573
        },
        "id": "CmghyUJw8X1k",
        "outputId": "3dd696b8-8703-44a7-aff8-a08080dd2da8"
      },
      "outputs": [
        {
          "data": {
            "image/png": "[encoded data removed]",
            "text/plain": [
              "<Figure size 432x288 with 1 Axes>"
            ]
          },
          "metadata": {
            "needs_background": "light"
          },
          "output_type": "display_data"
        },
        {
          "data": {
            "image/png": "[encoded data removed]",
            "text/plain": [
              "<Figure size 432x288 with 1 Axes>"
            ]
          },
          "metadata": {
            "needs_background": "light"
          },
          "output_type": "display_data"
        }
      ],
      "source": [
        "plt.plot(train_loss_hist,label=\"mean loss function of training data\")\n",
        "plt.plot(test_loss_hist, label=\"mean loss function of test data\")\n",
        "plt.legend()\n",
        "plt.title(\"performance mesurment of model\")\n",
        "plt.xlabel(\"epoch\")\n",
        "plt.ylabel(\"loss\")\n",
        "plt.show()\n",
        "\n",
        "plt.plot(test_acc_hist, label=\"accuracy of prediction on test data\")\n",
        "plt.plot(train_acc_hist, label=\"accuracy of prediction on train data\")\n",
        "plt.legend()\n",
        "plt.title(\"performance mesurment of model\")\n",
        "plt.xlabel(\"epoch\")\n",
        "plt.ylabel(\"accuracy\")\n",
        "plt.show()"
      ]
    },
    {
      "cell_type": "code",
      "execution_count": 77,
      "metadata": {
        "id": "koH5HP1T8X1k"
      },
      "outputs": [],
      "source": [
        "path = \"./numbers_model.pth\"\n",
        "torch.save(model_0.state_dict(), path) "
      ]
    },
    {
      "cell_type": "code",
      "execution_count": null,
      "metadata": {},
      "outputs": [],
      "source": [
        "model = torch.load(\"./numbers_model.pth\")\n",
        "model.eval()"
      ]
    }
  ],
  "metadata": {
    "accelerator": "GPU",
    "colab": {
      "provenance": []
    },
    "gpuClass": "standard",
    "kernelspec": {
      "display_name": "Python 3",
      "language": "python",
      "name": "python3"
    },
    "language_info": {
      "codemirror_mode": {
        "name": "ipython",
        "version": 3
      },
      "file_extension": ".py",
      "mimetype": "text/x-python",
      "name": "python",
      "nbconvert_exporter": "python",
      "pygments_lexer": "ipython3",
      "version": "3.9.13"
    },
    "orig_nbformat": 4,
    "vscode": {
      "interpreter": {
        "hash": "44f60aa086402613a6cefbfbd09cba7fdaab965cd6fb59a8433a72af4ce50381"
      }
    }
  },
  "nbformat": 4,
  "nbformat_minor": 0
}
