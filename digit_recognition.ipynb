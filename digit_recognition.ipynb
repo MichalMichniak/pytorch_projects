{
  "cells": [
    {
      "cell_type": "code",
      "execution_count": 2,
      "metadata": {
        "id": "mLF8mOik8X1h"
      },
      "outputs": [],
      "source": [
        "import torch\n",
        "import torch.nn as nn\n",
        "from sklearn.datasets import load_digits\n",
        "from sklearn.model_selection import train_test_split\n",
        "import matplotlib.pyplot as plt\n",
        "import numpy as np\n",
        "from sklearn.preprocessing import StandardScaler"
      ]
    },
    {
      "cell_type": "code",
      "execution_count": 3,
      "metadata": {
        "id": "6GwH3A8U8X1h",
        "outputId": "2b34a49d-4171-43b6-cd58-b3bf0f0037cb",
        "colab": {
          "base_uri": "https://localhost:8080/",
          "height": 232
        }
      },
      "outputs": [
        {
          "output_type": "display_data",
          "data": {
            "text/plain": [
              "<Figure size 576x216 with 3 Axes>"
            ],
            "image/png": "[encoded data removed]"
          },
          "metadata": {
            "needs_background": "light"
          }
        }
      ],
      "source": [
        "data_digits = load_digits()\n",
        "fig,ax = plt.subplots(1,3)\n",
        "fig.set_size_inches(8,3)\n",
        "for i in range(3):  \n",
        "    ax[i].imshow(data_digits.images[i], cmap='gray')\n",
        "    ax[i].set_title(data_digits.target[i])\n",
        "    ax[i].set_axis_off()\n",
        "fig.suptitle(\"sample data\")\n",
        "plt.tight_layout()\n",
        "plt.show()"
      ]
    },
    {
      "cell_type": "markdown",
      "metadata": {
        "id": "BR87sASO8X1i"
      },
      "source": [
        "##### Number distribution in dataset"
      ]
    },
    {
      "cell_type": "code",
      "execution_count": 4,
      "metadata": {
        "id": "FHJ79Zyj8X1i",
        "outputId": "9c3ec4d0-c246-4843-96de-94e57c9c4559",
        "colab": {
          "base_uri": "https://localhost:8080/",
          "height": 295
        }
      },
      "outputs": [
        {
          "output_type": "display_data",
          "data": {
            "text/plain": [
              "<Figure size 432x288 with 1 Axes>"
            ],
            "image/png": "[encoded data removed]"
          },
          "metadata": {
            "needs_background": "light"
          }
        }
      ],
      "source": [
        "plt.hist(data_digits.target, bins=10, rwidth=0.9)#\n",
        "plt.xticks([0.5 + (i)*9/10 for i in range(len(data_digits.target_names))],data_digits.target_names)\n",
        "plt.xlabel(\"number symbol\")\n",
        "plt.ylabel(\"total count\")\n",
        "plt.title(\"distribution of the numbers in dataset\")\n",
        "plt.show()"
      ]
    },
    {
      "cell_type": "markdown",
      "metadata": {
        "id": "KRGLJ21N8X1j"
      },
      "source": [
        "## Model"
      ]
    },
    {
      "cell_type": "code",
      "execution_count": 27,
      "metadata": {
        "id": "gMFLYaDm8X1j"
      },
      "outputs": [],
      "source": [
        "from typing import Tuple\n",
        "class CNN(nn.Module):\n",
        "    def __init__(self) -> None:\n",
        "        super().__init__()\n",
        "        self.conv1 = nn.Conv2d(1,6,3)\n",
        "        self.conv2 = nn.Conv2d(6,24,3)\n",
        "        self.pool1 = nn.MaxPool2d(2,2)\n",
        "        self.flatten1 = nn.Flatten()\n",
        "        self.flatten2 = nn.Flatten(-2, 1)\n",
        "        self.FC1 = nn.Linear(96, 20)\n",
        "        self.FC2 = nn.Linear(20,12)\n",
        "        self.FC3 = nn.Linear(12,12)\n",
        "        self.out = nn.Linear(12,10)\n",
        "        self.model = nn.Sequential(\n",
        "            self.conv1,\n",
        "            nn.ReLU(),\n",
        "            self.conv2,\n",
        "            nn.ReLU(),\n",
        "            self.pool1,\n",
        "            self.flatten1,\n",
        "            self.flatten2,\n",
        "            self.FC1,\n",
        "            nn.ReLU(),\n",
        "            self.FC2,\n",
        "            nn.ReLU(),\n",
        "            self.FC3,\n",
        "            nn.ReLU(),\n",
        "            self.out,\n",
        "            nn.Softmax(dim = -1)\n",
        "        )\n",
        "\n",
        "    def forward(self,input):\n",
        "        return self.model(input)\n"
      ]
    },
    {
      "cell_type": "code",
      "execution_count": 28,
      "metadata": {
        "id": "EFH2EyF58X1j"
      },
      "outputs": [],
      "source": [
        "x = torch.from_numpy(data_digits.images).type(torch.float)\n",
        "y = torch.from_numpy(data_digits.target).type(torch.float)\n",
        "xtrain, xtest, ytrain, ytest = train_test_split(x, y, test_size=0.2, random_state=12)"
      ]
    },
    {
      "cell_type": "code",
      "execution_count": 36,
      "metadata": {
        "id": "I-ERRgpR8X1j",
        "outputId": "fb923eaf-ab5d-468f-8eae-52ace22ae7d0",
        "colab": {
          "base_uri": "https://localhost:8080/"
        }
      },
      "outputs": [
        {
          "output_type": "stream",
          "name": "stdout",
          "text": [
            "tensor([0.0875, 0.0853, 0.0729, 0.0896, 0.1195, 0.0785, 0.1278, 0.1414, 0.1080,\n",
            "        0.0895])\n"
          ]
        }
      ],
      "source": [
        "model_0 = CNN()\n",
        "with torch.inference_mode():\n",
        "    pred = model_0(torch.reshape(xtrain[0], (1, 8, 8)))\n",
        "    print(pred)"
      ]
    },
    {
      "cell_type": "code",
      "execution_count": 35,
      "metadata": {
        "id": "Dpcn8q2m8X1j"
      },
      "outputs": [],
      "source": [
        "from torch.optim import SGD\n",
        "def train(model : CNN, nr_epoch, train_data, train_target, test_data, test_target, learning_rate = 1e-4):\n",
        "    optimizer = SGD(model.parameters(), momentum=0.3, lr = learning_rate)\n",
        "    loss_func = nn.CrossEntropyLoss()\n",
        "    test_acc_hist = []\n",
        "    train_acc_hist = []\n",
        "    test_loss_hist = []\n",
        "    train_loss_hist = []\n",
        "    for epoch in range(nr_epoch):\n",
        "        epoch_loss = 0.0\n",
        "        epoch_accuracy = 0.0\n",
        "        for t in range(len(train_data)):\n",
        "            prediction = model(torch.reshape(train_data[t], (1, 8, 8)))\n",
        "            target_value = torch.tensor([(0 if i != train_target[t] else 1) for i in range(10)],dtype=torch.float)\n",
        "            loss_value = loss_func(prediction,target_value)\n",
        "            optimizer.zero_grad()\n",
        "            loss_value.backward()\n",
        "            optimizer.step()\n",
        "            epoch_loss += loss_value.item()\n",
        "            if torch.argmax(prediction) == train_target[t]:\n",
        "                epoch_accuracy += 1\n",
        "        epoch_test_loss = 0.0\n",
        "        epoch_test_accuracy = 0.0\n",
        "        with torch.inference_mode():\n",
        "            for i in range(len(test_data)):\n",
        "                prediction = model(torch.reshape(test_data[i], (1, 8, 8)))\n",
        "                target_value = torch.tensor([(0 if j != test_target[i] else 1) for j in range(10)],dtype=torch.float)\n",
        "                loss_value = loss_func(prediction,target_value)\n",
        "                epoch_test_loss+=loss_value.item()\n",
        "                if torch.argmax(prediction) == test_target[i]:\n",
        "                    epoch_test_accuracy += 1\n",
        "            \n",
        "        \n",
        "        print(f\"\"\"[{epoch}] avg loss: {epoch_loss/len(train_data)}, avg test loss: {epoch_test_loss/len(test_data)},\n",
        "              train accuracy: {epoch_accuracy/len(train_data)}, test accuracy: {epoch_test_accuracy/len(test_data)}\n",
        "              \"\"\")\n",
        "        test_acc_hist.append(epoch_test_accuracy/len(test_data))\n",
        "        train_acc_hist.append(epoch_accuracy/len(train_data))\n",
        "        test_loss_hist.append(epoch_test_loss/len(test_data))\n",
        "        train_loss_hist.append(epoch_loss/len(train_data))\n",
        "    return test_acc_hist,train_acc_hist,test_loss_hist,train_loss_hist\n",
        "\n"
      ]
    },
    {
      "cell_type": "code",
      "execution_count": 37,
      "metadata": {
        "id": "Qu6UDHyl8X1k",
        "outputId": "803518d0-18fb-4224-8108-f5c76dfcc349",
        "colab": {
          "base_uri": "https://localhost:8080/",
          "height": 1000
        }
      },
      "outputs": [
        {
          "output_type": "stream",
          "name": "stdout",
          "text": [
            "[0] avg loss: 2.302210306241932, avg test loss: 2.3005460176202988,\n",
            "              train accuracy: 0.0953375086986778, test accuracy: 0.1388888888888889\n",
            "              \n",
            "[1] avg loss: 2.2921977504393087, avg test loss: 2.26928427848551,\n",
            "              train accuracy: 0.20041753653444677, test accuracy: 0.14166666666666666\n",
            "              \n",
            "[2] avg loss: 2.1087102501775625, avg test loss: 2.0104488829771676,\n",
            "              train accuracy: 0.35977731384829503, test accuracy: 0.4444444444444444\n",
            "              \n",
            "[3] avg loss: 1.9804704752578948, avg test loss: 1.9486603349447251,\n",
            "              train accuracy: 0.48086290883785665, test accuracy: 0.5333333333333333\n",
            "              \n",
            "[4] avg loss: 1.8951921968221166, avg test loss: 1.8811659872531892,\n",
            "              train accuracy: 0.5741127348643006, test accuracy: 0.5833333333333334\n",
            "              \n",
            "[5] avg loss: 1.8586798048550335, avg test loss: 1.9166973802778455,\n",
            "              train accuracy: 0.6019485038274183, test accuracy: 0.5472222222222223\n",
            "              \n",
            "[6] avg loss: 1.8757712748122033, avg test loss: 1.9010856982734468,\n",
            "              train accuracy: 0.5880306193458594, test accuracy: 0.5611111111111111\n",
            "              \n",
            "[7] avg loss: 1.8071574336053933, avg test loss: 1.8187335318989224,\n",
            "              train accuracy: 0.651356993736952, test accuracy: 0.6472222222222223\n",
            "              \n",
            "[8] avg loss: 1.7730968746777285, avg test loss: 1.7484995699591106,\n",
            "              train accuracy: 0.6903270702853166, test accuracy: 0.7138888888888889\n",
            "              \n",
            "[9] avg loss: 1.7339265339890535, avg test loss: 1.894748102956348,\n",
            "              train accuracy: 0.7279053583855254, test accuracy: 0.5638888888888889\n",
            "              \n",
            "[10] avg loss: 1.7269930150165438, avg test loss: 1.733977946639061,\n",
            "              train accuracy: 0.7313848295059151, test accuracy: 0.725\n",
            "              \n",
            "[11] avg loss: 1.7177464489979966, avg test loss: 1.7376174122095107,\n",
            "              train accuracy: 0.7411273486430062, test accuracy: 0.725\n",
            "              \n",
            "[12] avg loss: 1.7077317678355972, avg test loss: 1.7230481922626495,\n",
            "              train accuracy: 0.7536534446764092, test accuracy: 0.7361111111111112\n",
            "              \n",
            "[13] avg loss: 1.6974011050717401, avg test loss: 1.7109908550977706,\n",
            "              train accuracy: 0.7627000695894224, test accuracy: 0.7527777777777778\n",
            "              \n",
            "[14] avg loss: 1.7111208474544826, avg test loss: 1.7105919049845801,\n",
            "              train accuracy: 0.7480862908837856, test accuracy: 0.75\n",
            "              \n",
            "[15] avg loss: 1.7155232720683662, avg test loss: 1.724329258998235,\n",
            "              train accuracy: 0.743910925539318, test accuracy: 0.7361111111111112\n",
            "              \n",
            "[16] avg loss: 1.7301115036508485, avg test loss: 1.7053093314170837,\n",
            "              train accuracy: 0.7313848295059151, test accuracy: 0.7527777777777778\n",
            "              \n",
            "[17] avg loss: 1.7123095342991828, avg test loss: 1.788609007663197,\n",
            "              train accuracy: 0.7480862908837856, test accuracy: 0.6694444444444444\n",
            "              \n",
            "[18] avg loss: 1.745856479214726, avg test loss: 1.7355090101559958,\n",
            "              train accuracy: 0.7139874739039666, test accuracy: 0.7222222222222222\n",
            "              \n",
            "[19] avg loss: 1.885980504705579, avg test loss: 1.732029101252556,\n",
            "              train accuracy: 0.5734168406402227, test accuracy: 0.7277777777777777\n",
            "              \n",
            "[20] avg loss: 1.8123126097993048, avg test loss: 1.8877930482228598,\n",
            "              train accuracy: 0.6492693110647182, test accuracy: 0.5694444444444444\n",
            "              \n",
            "[21] avg loss: 1.8747180799850591, avg test loss: 2.172001918156942,\n",
            "              train accuracy: 0.5859429366736256, test accuracy: 0.2861111111111111\n",
            "              \n",
            "[22] avg loss: 1.956011047359963, avg test loss: 1.842455055978563,\n",
            "              train accuracy: 0.5038274182324287, test accuracy: 0.6194444444444445\n",
            "              \n",
            "[23] avg loss: 1.966746524961441, avg test loss: 2.0049396087725957,\n",
            "              train accuracy: 0.49269311064718163, test accuracy: 0.4527777777777778\n",
            "              \n",
            "[24] avg loss: 2.1270443206042486, avg test loss: 2.0933236291011172,\n",
            "              train accuracy: 0.33194154488517746, test accuracy: 0.36666666666666664\n",
            "              \n",
            "[25] avg loss: 2.0376951429025945, avg test loss: 2.0486749321222306,\n",
            "              train accuracy: 0.42379958246346555, test accuracy: 0.4111111111111111\n",
            "              \n",
            "[26] avg loss: 1.9712669018166051, avg test loss: 1.9173079868157705,\n",
            "              train accuracy: 0.4892136395267919, test accuracy: 0.5416666666666666\n",
            "              \n",
            "[27] avg loss: 1.9966538236965798, avg test loss: 2.082845600777202,\n",
            "              train accuracy: 0.4641614474599861, test accuracy: 0.37777777777777777\n",
            "              \n",
            "[28] avg loss: 2.0881669571935593, avg test loss: 2.0921056982543735,\n",
            "              train accuracy: 0.37230340988169797, test accuracy: 0.36944444444444446\n",
            "              \n",
            "[29] avg loss: 2.138184006710225, avg test loss: 2.1374077773756452,\n",
            "              train accuracy: 0.32289491997216424, test accuracy: 0.32222222222222224\n",
            "              \n",
            "[30] avg loss: 2.0830031380358056, avg test loss: 2.0665553159183925,\n",
            "              train accuracy: 0.3778705636743215, test accuracy: 0.39444444444444443\n",
            "              \n",
            "[31] avg loss: 2.2059765762974175, avg test loss: 2.156386634707451,\n",
            "              train accuracy: 0.2546972860125261, test accuracy: 0.3055555555555556\n",
            "              \n",
            "[32] avg loss: 2.230667979333993, avg test loss: 2.352816836039225,\n",
            "              train accuracy: 0.22964509394572025, test accuracy: 0.10833333333333334\n",
            "              \n",
            "[33] avg loss: 2.362333189553491, avg test loss: 2.352816836039225,\n",
            "              train accuracy: 0.09881697981906751, test accuracy: 0.10833333333333334\n",
            "              \n",
            "[34] avg loss: 2.362333189553491, avg test loss: 2.352816836039225,\n",
            "              train accuracy: 0.09881697981906751, test accuracy: 0.10833333333333334\n",
            "              \n",
            "[35] avg loss: 2.362333189553491, avg test loss: 2.352816836039225,\n",
            "              train accuracy: 0.09881697981906751, test accuracy: 0.10833333333333334\n",
            "              \n",
            "[36] avg loss: 2.362333189553491, avg test loss: 2.352816836039225,\n",
            "              train accuracy: 0.09881697981906751, test accuracy: 0.10833333333333334\n",
            "              \n",
            "[37] avg loss: 2.362333189553491, avg test loss: 2.352816836039225,\n",
            "              train accuracy: 0.09881697981906751, test accuracy: 0.10833333333333334\n",
            "              \n",
            "[38] avg loss: 2.362333189553491, avg test loss: 2.352816836039225,\n",
            "              train accuracy: 0.09881697981906751, test accuracy: 0.10833333333333334\n",
            "              \n",
            "[39] avg loss: 2.362333189553491, avg test loss: 2.352816836039225,\n",
            "              train accuracy: 0.09881697981906751, test accuracy: 0.10833333333333334\n",
            "              \n"
          ]
        },
        {
          "output_type": "error",
          "ename": "KeyboardInterrupt",
          "evalue": "ignored",
          "traceback": [
            "\u001b[0;31m---------------------------------------------------------------------------\u001b[0m",
            "\u001b[0;31mKeyboardInterrupt\u001b[0m                         Traceback (most recent call last)",
            "\u001b[0;32m<ipython-input-37-d58e8a4e68ea>\u001b[0m in \u001b[0;36m<module>\u001b[0;34m\u001b[0m\n\u001b[0;32m----> 1\u001b[0;31m \u001b[0mtest_acc_hist\u001b[0m\u001b[0;34m,\u001b[0m\u001b[0mtrain_acc_hist\u001b[0m\u001b[0;34m,\u001b[0m\u001b[0mtest_loss_hist\u001b[0m\u001b[0;34m,\u001b[0m\u001b[0mtrain_loss_hist\u001b[0m \u001b[0;34m=\u001b[0m \u001b[0mtrain\u001b[0m\u001b[0;34m(\u001b[0m\u001b[0mmodel_0\u001b[0m\u001b[0;34m,\u001b[0m\u001b[0;36m70\u001b[0m\u001b[0;34m,\u001b[0m\u001b[0mxtrain\u001b[0m\u001b[0;34m,\u001b[0m\u001b[0mytrain\u001b[0m\u001b[0;34m,\u001b[0m\u001b[0mxtest\u001b[0m\u001b[0;34m,\u001b[0m\u001b[0mytest\u001b[0m\u001b[0;34m,\u001b[0m\u001b[0mlearning_rate\u001b[0m\u001b[0;34m=\u001b[0m\u001b[0;36m0.006\u001b[0m\u001b[0;34m)\u001b[0m\u001b[0;34m\u001b[0m\u001b[0;34m\u001b[0m\u001b[0m\n\u001b[0m",
            "\u001b[0;32m<ipython-input-35-067d5dc98efa>\u001b[0m in \u001b[0;36mtrain\u001b[0;34m(model, nr_epoch, train_data, train_target, test_data, test_target, learning_rate)\u001b[0m\n\u001b[1;32m     12\u001b[0m         \u001b[0;32mfor\u001b[0m \u001b[0mt\u001b[0m \u001b[0;32min\u001b[0m \u001b[0mrange\u001b[0m\u001b[0;34m(\u001b[0m\u001b[0mlen\u001b[0m\u001b[0;34m(\u001b[0m\u001b[0mtrain_data\u001b[0m\u001b[0;34m)\u001b[0m\u001b[0;34m)\u001b[0m\u001b[0;34m:\u001b[0m\u001b[0;34m\u001b[0m\u001b[0;34m\u001b[0m\u001b[0m\n\u001b[1;32m     13\u001b[0m             \u001b[0mprediction\u001b[0m \u001b[0;34m=\u001b[0m \u001b[0mmodel\u001b[0m\u001b[0;34m(\u001b[0m\u001b[0mtorch\u001b[0m\u001b[0;34m.\u001b[0m\u001b[0mreshape\u001b[0m\u001b[0;34m(\u001b[0m\u001b[0mtrain_data\u001b[0m\u001b[0;34m[\u001b[0m\u001b[0mt\u001b[0m\u001b[0;34m]\u001b[0m\u001b[0;34m,\u001b[0m \u001b[0;34m(\u001b[0m\u001b[0;36m1\u001b[0m\u001b[0;34m,\u001b[0m \u001b[0;36m8\u001b[0m\u001b[0;34m,\u001b[0m \u001b[0;36m8\u001b[0m\u001b[0;34m)\u001b[0m\u001b[0;34m)\u001b[0m\u001b[0;34m)\u001b[0m\u001b[0;34m\u001b[0m\u001b[0;34m\u001b[0m\u001b[0m\n\u001b[0;32m---> 14\u001b[0;31m             \u001b[0mtarget_value\u001b[0m \u001b[0;34m=\u001b[0m \u001b[0mtorch\u001b[0m\u001b[0;34m.\u001b[0m\u001b[0mtensor\u001b[0m\u001b[0;34m(\u001b[0m\u001b[0;34m[\u001b[0m\u001b[0;34m(\u001b[0m\u001b[0;36m0\u001b[0m \u001b[0;32mif\u001b[0m \u001b[0mi\u001b[0m \u001b[0;34m!=\u001b[0m \u001b[0mtrain_target\u001b[0m\u001b[0;34m[\u001b[0m\u001b[0mt\u001b[0m\u001b[0;34m]\u001b[0m \u001b[0;32melse\u001b[0m \u001b[0;36m1\u001b[0m\u001b[0;34m)\u001b[0m \u001b[0;32mfor\u001b[0m \u001b[0mi\u001b[0m \u001b[0;32min\u001b[0m \u001b[0mrange\u001b[0m\u001b[0;34m(\u001b[0m\u001b[0;36m10\u001b[0m\u001b[0;34m)\u001b[0m\u001b[0;34m]\u001b[0m\u001b[0;34m,\u001b[0m\u001b[0mdtype\u001b[0m\u001b[0;34m=\u001b[0m\u001b[0mtorch\u001b[0m\u001b[0;34m.\u001b[0m\u001b[0mfloat\u001b[0m\u001b[0;34m)\u001b[0m\u001b[0;34m\u001b[0m\u001b[0;34m\u001b[0m\u001b[0m\n\u001b[0m\u001b[1;32m     15\u001b[0m             \u001b[0mloss_value\u001b[0m \u001b[0;34m=\u001b[0m \u001b[0mloss_func\u001b[0m\u001b[0;34m(\u001b[0m\u001b[0mprediction\u001b[0m\u001b[0;34m,\u001b[0m\u001b[0mtarget_value\u001b[0m\u001b[0;34m)\u001b[0m\u001b[0;34m\u001b[0m\u001b[0;34m\u001b[0m\u001b[0m\n\u001b[1;32m     16\u001b[0m             \u001b[0moptimizer\u001b[0m\u001b[0;34m.\u001b[0m\u001b[0mzero_grad\u001b[0m\u001b[0;34m(\u001b[0m\u001b[0;34m)\u001b[0m\u001b[0;34m\u001b[0m\u001b[0;34m\u001b[0m\u001b[0m\n",
            "\u001b[0;32m<ipython-input-35-067d5dc98efa>\u001b[0m in \u001b[0;36m<listcomp>\u001b[0;34m(.0)\u001b[0m\n\u001b[1;32m     12\u001b[0m         \u001b[0;32mfor\u001b[0m \u001b[0mt\u001b[0m \u001b[0;32min\u001b[0m \u001b[0mrange\u001b[0m\u001b[0;34m(\u001b[0m\u001b[0mlen\u001b[0m\u001b[0;34m(\u001b[0m\u001b[0mtrain_data\u001b[0m\u001b[0;34m)\u001b[0m\u001b[0;34m)\u001b[0m\u001b[0;34m:\u001b[0m\u001b[0;34m\u001b[0m\u001b[0;34m\u001b[0m\u001b[0m\n\u001b[1;32m     13\u001b[0m             \u001b[0mprediction\u001b[0m \u001b[0;34m=\u001b[0m \u001b[0mmodel\u001b[0m\u001b[0;34m(\u001b[0m\u001b[0mtorch\u001b[0m\u001b[0;34m.\u001b[0m\u001b[0mreshape\u001b[0m\u001b[0;34m(\u001b[0m\u001b[0mtrain_data\u001b[0m\u001b[0;34m[\u001b[0m\u001b[0mt\u001b[0m\u001b[0;34m]\u001b[0m\u001b[0;34m,\u001b[0m \u001b[0;34m(\u001b[0m\u001b[0;36m1\u001b[0m\u001b[0;34m,\u001b[0m \u001b[0;36m8\u001b[0m\u001b[0;34m,\u001b[0m \u001b[0;36m8\u001b[0m\u001b[0;34m)\u001b[0m\u001b[0;34m)\u001b[0m\u001b[0;34m)\u001b[0m\u001b[0;34m\u001b[0m\u001b[0;34m\u001b[0m\u001b[0m\n\u001b[0;32m---> 14\u001b[0;31m             \u001b[0mtarget_value\u001b[0m \u001b[0;34m=\u001b[0m \u001b[0mtorch\u001b[0m\u001b[0;34m.\u001b[0m\u001b[0mtensor\u001b[0m\u001b[0;34m(\u001b[0m\u001b[0;34m[\u001b[0m\u001b[0;34m(\u001b[0m\u001b[0;36m0\u001b[0m \u001b[0;32mif\u001b[0m \u001b[0mi\u001b[0m \u001b[0;34m!=\u001b[0m \u001b[0mtrain_target\u001b[0m\u001b[0;34m[\u001b[0m\u001b[0mt\u001b[0m\u001b[0;34m]\u001b[0m \u001b[0;32melse\u001b[0m \u001b[0;36m1\u001b[0m\u001b[0;34m)\u001b[0m \u001b[0;32mfor\u001b[0m \u001b[0mi\u001b[0m \u001b[0;32min\u001b[0m \u001b[0mrange\u001b[0m\u001b[0;34m(\u001b[0m\u001b[0;36m10\u001b[0m\u001b[0;34m)\u001b[0m\u001b[0;34m]\u001b[0m\u001b[0;34m,\u001b[0m\u001b[0mdtype\u001b[0m\u001b[0;34m=\u001b[0m\u001b[0mtorch\u001b[0m\u001b[0;34m.\u001b[0m\u001b[0mfloat\u001b[0m\u001b[0;34m)\u001b[0m\u001b[0;34m\u001b[0m\u001b[0;34m\u001b[0m\u001b[0m\n\u001b[0m\u001b[1;32m     15\u001b[0m             \u001b[0mloss_value\u001b[0m \u001b[0;34m=\u001b[0m \u001b[0mloss_func\u001b[0m\u001b[0;34m(\u001b[0m\u001b[0mprediction\u001b[0m\u001b[0;34m,\u001b[0m\u001b[0mtarget_value\u001b[0m\u001b[0;34m)\u001b[0m\u001b[0;34m\u001b[0m\u001b[0;34m\u001b[0m\u001b[0m\n\u001b[1;32m     16\u001b[0m             \u001b[0moptimizer\u001b[0m\u001b[0;34m.\u001b[0m\u001b[0mzero_grad\u001b[0m\u001b[0;34m(\u001b[0m\u001b[0;34m)\u001b[0m\u001b[0;34m\u001b[0m\u001b[0;34m\u001b[0m\u001b[0m\n",
            "\u001b[0;31mKeyboardInterrupt\u001b[0m: "
          ]
        }
      ],
      "source": [
        "test_acc_hist,train_acc_hist,test_loss_hist,train_loss_hist = train(model_0,70,xtrain,ytrain,xtest,ytest,learning_rate=0.006)\n"
      ]
    },
    {
      "cell_type": "code",
      "execution_count": 32,
      "metadata": {
        "id": "CmghyUJw8X1k",
        "outputId": "10fa5a8a-6f67-4580-c69c-d52debea8b47",
        "colab": {
          "base_uri": "https://localhost:8080/",
          "height": 573
        }
      },
      "outputs": [
        {
          "output_type": "display_data",
          "data": {
            "text/plain": [
              "<Figure size 432x288 with 1 Axes>"
            ],
            "image/png": "[encoded data removed]"
          },
          "metadata": {
            "needs_background": "light"
          }
        },
        {
          "output_type": "display_data",
          "data": {
            "text/plain": [
              "<Figure size 432x288 with 1 Axes>"
            ],
            "image/png": "[encoded data removed]"
          },
          "metadata": {
            "needs_background": "light"
          }
        }
      ],
      "source": [
        "plt.plot(train_loss_hist,label=\"mean loss function of training data\")\n",
        "plt.plot(test_loss_hist, label=\"mean loss function of test data\")\n",
        "plt.legend()\n",
        "plt.title(\"performance mesurment of model\")\n",
        "plt.xlabel(\"epoch\")\n",
        "plt.ylabel(\"loss\")\n",
        "plt.show()\n",
        "\n",
        "plt.plot(test_acc_hist, label=\"accuracy of prediction on test data\")\n",
        "plt.plot(train_acc_hist, label=\"accuracy of prediction on train data\")\n",
        "plt.legend()\n",
        "plt.title(\"performance mesurment of model\")\n",
        "plt.xlabel(\"epoch\")\n",
        "plt.ylabel(\"accuracy\")\n",
        "plt.show()"
      ]
    },
    {
      "cell_type": "code",
      "execution_count": 11,
      "metadata": {
        "id": "koH5HP1T8X1k"
      },
      "outputs": [],
      "source": [
        "path = \"./numbers_model.pth\"\n",
        "torch.save(model_0.state_dict(), path) "
      ]
    }
  ],
  "metadata": {
    "kernelspec": {
      "display_name": "Python 3",
      "language": "python",
      "name": "python3"
    },
    "language_info": {
      "codemirror_mode": {
        "name": "ipython",
        "version": 3
      },
      "file_extension": ".py",
      "mimetype": "text/x-python",
      "name": "python",
      "nbconvert_exporter": "python",
      "pygments_lexer": "ipython3",
      "version": "3.9.13"
    },
    "orig_nbformat": 4,
    "vscode": {
      "interpreter": {
        "hash": "44f60aa086402613a6cefbfbd09cba7fdaab965cd6fb59a8433a72af4ce50381"
      }
    },
    "colab": {
      "provenance": []
    },
    "accelerator": "GPU",
    "gpuClass": "standard"
  },
  "nbformat": 4,
  "nbformat_minor": 0
}