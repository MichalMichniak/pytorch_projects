{
  "cells": [
    {
      "cell_type": "code",
      "execution_count": 38,
      "metadata": {
        "id": "mLF8mOik8X1h"
      },
      "outputs": [],
      "source": [
        "import torch\n",
        "import torch.nn as nn\n",
        "from sklearn.datasets import load_digits\n",
        "from sklearn.model_selection import train_test_split\n",
        "import matplotlib.pyplot as plt\n",
        "import numpy as np\n",
        "from sklearn.preprocessing import StandardScaler"
      ]
    },
    {
      "cell_type": "code",
      "execution_count": 39,
      "metadata": {
        "colab": {
          "base_uri": "https://localhost:8080/",
          "height": 232
        },
        "id": "6GwH3A8U8X1h",
        "outputId": "c8a5411e-05e9-48af-a8b5-11a48e386dbb"
      },
      "outputs": [
        {
          "output_type": "display_data",
          "data": {
            "text/plain": [
              "<Figure size 576x216 with 3 Axes>"
            ],
            "image/png": "[encoded data removed]"
          },
          "metadata": {
            "needs_background": "light"
          }
        }
      ],
      "source": [
        "data_digits = load_digits()\n",
        "fig,ax = plt.subplots(1,3)\n",
        "fig.set_size_inches(8,3)\n",
        "for i in range(3):  \n",
        "    ax[i].imshow(data_digits.images[i], cmap='gray')\n",
        "    ax[i].set_title(data_digits.target[i])\n",
        "    ax[i].set_axis_off()\n",
        "fig.suptitle(\"sample data\")\n",
        "plt.tight_layout()\n",
        "plt.show()"
      ]
    },
    {
      "cell_type": "markdown",
      "metadata": {
        "id": "BR87sASO8X1i"
      },
      "source": [
        "##### Number distribution in dataset"
      ]
    },
    {
      "cell_type": "code",
      "execution_count": 40,
      "metadata": {
        "colab": {
          "base_uri": "https://localhost:8080/",
          "height": 295
        },
        "id": "FHJ79Zyj8X1i",
        "outputId": "abaf7da2-7c8f-4140-a9b3-250fc968e7ef"
      },
      "outputs": [
        {
          "output_type": "display_data",
          "data": {
            "text/plain": [
              "<Figure size 432x288 with 1 Axes>"
            ],
            "image/png": "[encoded data removed]"
          },
          "metadata": {
            "needs_background": "light"
          }
        }
      ],
      "source": [
        "plt.hist(data_digits.target, bins=10, rwidth=0.9)#\n",
        "plt.xticks([0.5 + (i)*9/10 for i in range(len(data_digits.target_names))],data_digits.target_names)\n",
        "plt.xlabel(\"number symbol\")\n",
        "plt.ylabel(\"total count\")\n",
        "plt.title(\"distribution of the numbers in dataset\")\n",
        "plt.show()"
      ]
    },
    {
      "cell_type": "markdown",
      "metadata": {
        "id": "KRGLJ21N8X1j"
      },
      "source": [
        "## Model"
      ]
    },
    {
      "cell_type": "code",
      "execution_count": 41,
      "metadata": {
        "id": "gMFLYaDm8X1j"
      },
      "outputs": [],
      "source": [
        "from typing import Tuple\n",
        "class CNN(nn.Module):\n",
        "    def __init__(self) -> None:\n",
        "        super().__init__()\n",
        "        self.conv1 = nn.Conv2d(1,6,3)\n",
        "        self.conv2 = nn.Conv2d(6,24,3)\n",
        "        self.pool1 = nn.MaxPool2d(2,2)\n",
        "        self.flatten1 = nn.Flatten()\n",
        "        self.flatten2 = nn.Flatten(-2, 1)\n",
        "        self.FC1 = nn.Linear(96, 20)\n",
        "        self.dropout = nn.Dropout(p=0.1)\n",
        "        self.FC2 = nn.Linear(20,12)\n",
        "        self.FC3 = nn.Linear(12,12)\n",
        "        self.out = nn.Linear(12,10)\n",
        "        self.model = nn.Sequential(\n",
        "            self.conv1,\n",
        "            nn.ReLU(),\n",
        "            self.conv2,\n",
        "            nn.ReLU(),\n",
        "            self.pool1,\n",
        "            self.flatten1,\n",
        "            self.flatten2,\n",
        "            self.FC1,\n",
        "            nn.ReLU(),\n",
        "            self.dropout,\n",
        "            self.FC2,\n",
        "            nn.ReLU(),\n",
        "            self.FC3,\n",
        "            nn.ReLU(),\n",
        "            self.out,\n",
        "            nn.Softmax(dim = -1)\n",
        "        )\n",
        "\n",
        "    def forward(self,input):\n",
        "        return self.model(input)\n"
      ]
    },
    {
      "cell_type": "code",
      "execution_count": 42,
      "metadata": {
        "id": "EFH2EyF58X1j"
      },
      "outputs": [],
      "source": [
        "x = torch.from_numpy(data_digits.images).type(torch.float)\n",
        "y = torch.from_numpy(data_digits.target).type(torch.float)\n",
        "xtrain, xtest, ytrain, ytest = train_test_split(x, y, test_size=0.2, random_state=12)"
      ]
    },
    {
      "cell_type": "code",
      "execution_count": 43,
      "metadata": {
        "colab": {
          "base_uri": "https://localhost:8080/"
        },
        "id": "I-ERRgpR8X1j",
        "outputId": "2da7b802-f827-461b-aba3-9b0e48ab207f"
      },
      "outputs": [
        {
          "output_type": "stream",
          "name": "stdout",
          "text": [
            "tensor([0.0967, 0.1025, 0.0817, 0.0905, 0.0932, 0.1214, 0.1042, 0.0914, 0.0974,\n",
            "        0.1210])\n"
          ]
        }
      ],
      "source": [
        "model_0 = CNN()\n",
        "with torch.inference_mode():\n",
        "    pred = model_0(torch.reshape(xtrain[0], (1, 8, 8)))\n",
        "    print(pred)"
      ]
    },
    {
      "cell_type": "code",
      "execution_count": 44,
      "metadata": {
        "id": "Dpcn8q2m8X1j"
      },
      "outputs": [],
      "source": [
        "from torch.optim import SGD\n",
        "def train(model : CNN, nr_epoch, train_data, train_target, test_data, test_target, learning_rate = 1e-4):\n",
        "    optimizer = SGD(model.parameters(), momentum=0.3, lr = learning_rate)\n",
        "    loss_func = nn.CrossEntropyLoss()\n",
        "    test_acc_hist = []\n",
        "    train_acc_hist = []\n",
        "    test_loss_hist = []\n",
        "    train_loss_hist = []\n",
        "    for epoch in range(nr_epoch):\n",
        "        epoch_loss = 0.0\n",
        "        epoch_accuracy = 0.0\n",
        "        for t in range(len(train_data)):\n",
        "            prediction = model(torch.reshape(train_data[t], (1, 8, 8)))\n",
        "            target_value = torch.tensor([(0 if i != train_target[t] else 1) for i in range(10)],dtype=torch.float)\n",
        "            loss_value = loss_func(prediction,target_value)\n",
        "            optimizer.zero_grad()\n",
        "            loss_value.backward()\n",
        "            optimizer.step()\n",
        "            epoch_loss += loss_value.item()\n",
        "            if torch.argmax(prediction) == train_target[t]:\n",
        "                epoch_accuracy += 1\n",
        "        epoch_test_loss = 0.0\n",
        "        epoch_test_accuracy = 0.0\n",
        "        with torch.inference_mode():\n",
        "            for i in range(len(test_data)):\n",
        "                prediction = model(torch.reshape(test_data[i], (1, 8, 8)))\n",
        "                target_value = torch.tensor([(0 if j != test_target[i] else 1) for j in range(10)],dtype=torch.float)\n",
        "                loss_value = loss_func(prediction,target_value)\n",
        "                epoch_test_loss+=loss_value.item()\n",
        "                if torch.argmax(prediction) == test_target[i]:\n",
        "                    epoch_test_accuracy += 1\n",
        "            \n",
        "        \n",
        "        print(f\"\"\"[{epoch}] avg loss: {epoch_loss/len(train_data)}, avg test loss: {epoch_test_loss/len(test_data)},\n",
        "              train accuracy: {epoch_accuracy/len(train_data)}, test accuracy: {epoch_test_accuracy/len(test_data)}\n",
        "              \"\"\")\n",
        "        test_acc_hist.append(epoch_test_accuracy/len(test_data))\n",
        "        train_acc_hist.append(epoch_accuracy/len(train_data))\n",
        "        test_loss_hist.append(epoch_test_loss/len(test_data))\n",
        "        train_loss_hist.append(epoch_loss/len(train_data))\n",
        "    return test_acc_hist,train_acc_hist,test_loss_hist,train_loss_hist\n",
        "\n"
      ]
    },
    {
      "cell_type": "code",
      "execution_count": 45,
      "metadata": {
        "colab": {
          "base_uri": "https://localhost:8080/"
        },
        "id": "Qu6UDHyl8X1k",
        "outputId": "eb82e15b-f9f2-4261-c976-edd7c112a718"
      },
      "outputs": [
        {
          "output_type": "stream",
          "name": "stdout",
          "text": [
            "[0] avg loss: 2.302324931822308, avg test loss: 2.3027947498692405,\n",
            "              train accuracy: 0.10299234516353514, test accuracy: 0.09444444444444444\n",
            "              \n",
            "[1] avg loss: 2.3011035967304547, avg test loss: 2.300900838110182,\n",
            "              train accuracy: 0.10855949895615867, test accuracy: 0.13055555555555556\n",
            "              \n",
            "[2] avg loss: 2.2982903348130326, avg test loss: 2.2962536964151594,\n",
            "              train accuracy: 0.19276270006958943, test accuracy: 0.225\n",
            "              \n",
            "[3] avg loss: 2.2735391622960113, avg test loss: 2.212657183408737,\n",
            "              train accuracy: 0.18580375782881003, test accuracy: 0.2\n",
            "              \n",
            "[4] avg loss: 2.1323462067665786, avg test loss: 2.0101043992572363,\n",
            "              train accuracy: 0.3221990257480863, test accuracy: 0.45555555555555555\n",
            "              \n",
            "[5] avg loss: 1.9490333880163682, avg test loss: 1.9258689688311683,\n",
            "              train accuracy: 0.5135699373695198, test accuracy: 0.5277777777777778\n",
            "              \n",
            "[6] avg loss: 1.8715795096873242, avg test loss: 1.811386470662223,\n",
            "              train accuracy: 0.5901183020180932, test accuracy: 0.6361111111111111\n",
            "              \n",
            "[7] avg loss: 1.82088383453624, avg test loss: 1.8370309385988448,\n",
            "              train accuracy: 0.6360473208072372, test accuracy: 0.6416666666666667\n",
            "              \n",
            "[8] avg loss: 1.7784052375462955, avg test loss: 1.7803049772977828,\n",
            "              train accuracy: 0.6854558107167711, test accuracy: 0.6777777777777778\n",
            "              \n",
            "[9] avg loss: 1.7575180109955821, avg test loss: 1.723693820503023,\n",
            "              train accuracy: 0.7021572720946416, test accuracy: 0.7416666666666667\n",
            "              \n",
            "[10] avg loss: 1.7227482741793245, avg test loss: 1.6801206837097804,\n",
            "              train accuracy: 0.7383437717466945, test accuracy: 0.7833333333333333\n",
            "              \n",
            "[11] avg loss: 1.7416702663226515, avg test loss: 1.7162248207463158,\n",
            "              train accuracy: 0.7181628392484343, test accuracy: 0.7444444444444445\n",
            "              \n",
            "[12] avg loss: 1.7272873498037944, avg test loss: 1.71268121070332,\n",
            "              train accuracy: 0.732776617954071, test accuracy: 0.7472222222222222\n",
            "              \n",
            "[13] avg loss: 1.736271192236086, avg test loss: 1.711263174811999,\n",
            "              train accuracy: 0.7244258872651357, test accuracy: 0.7444444444444445\n",
            "              \n",
            "[14] avg loss: 1.7166328404459095, avg test loss: 1.6995199819405873,\n",
            "              train accuracy: 0.7432150313152401, test accuracy: 0.7583333333333333\n",
            "              \n",
            "[15] avg loss: 1.7201332739018365, avg test loss: 1.7553545892238618,\n",
            "              train accuracy: 0.7383437717466945, test accuracy: 0.6972222222222222\n",
            "              \n",
            "[16] avg loss: 1.728673411892285, avg test loss: 1.7487024499310388,\n",
            "              train accuracy: 0.7286012526096033, test accuracy: 0.7111111111111111\n",
            "              \n",
            "[17] avg loss: 1.73774672384136, avg test loss: 1.7009577853812112,\n",
            "              train accuracy: 0.7237299930410578, test accuracy: 0.7583333333333333\n",
            "              \n",
            "[18] avg loss: 1.7048389811273574, avg test loss: 1.669321451584498,\n",
            "              train accuracy: 0.7585247042449548, test accuracy: 0.7888888888888889\n",
            "              \n",
            "[19] avg loss: 1.6754751368869736, avg test loss: 1.6942718376715977,\n",
            "              train accuracy: 0.7884481558803061, test accuracy: 0.7666666666666667\n",
            "              \n",
            "[20] avg loss: 1.7083011599323694, avg test loss: 1.6246907204389571,\n",
            "              train accuracy: 0.756437021572721, test accuracy: 0.8388888888888889\n",
            "              \n",
            "[21] avg loss: 1.6720945513240149, avg test loss: 1.733431836631563,\n",
            "              train accuracy: 0.7891440501043842, test accuracy: 0.725\n",
            "              \n",
            "[22] avg loss: 1.69978278423235, avg test loss: 1.6854283356004292,\n",
            "              train accuracy: 0.7606123869171886, test accuracy: 0.7722222222222223\n",
            "              \n",
            "[23] avg loss: 1.7572336644867517, avg test loss: 1.8254500369230906,\n",
            "              train accuracy: 0.7021572720946416, test accuracy: 0.6277777777777778\n",
            "              \n",
            "[24] avg loss: 1.775205536359868, avg test loss: 1.6450471106502744,\n",
            "              train accuracy: 0.6868475991649269, test accuracy: 0.8194444444444444\n",
            "              \n",
            "[25] avg loss: 1.6599822789326921, avg test loss: 1.716137249271075,\n",
            "              train accuracy: 0.8016701461377871, test accuracy: 0.7416666666666667\n",
            "              \n",
            "[26] avg loss: 1.807780127269822, avg test loss: 2.150868707895279,\n",
            "              train accuracy: 0.6499652052887961, test accuracy: 0.30833333333333335\n",
            "              \n",
            "[27] avg loss: 2.2024798867763873, avg test loss: 2.272232515613238,\n",
            "              train accuracy: 0.2581767571329158, test accuracy: 0.18888888888888888\n",
            "              \n",
            "[28] avg loss: 2.3483577405900364, avg test loss: 2.3389279319180383,\n",
            "              train accuracy: 0.1127348643006263, test accuracy: 0.12222222222222222\n",
            "              \n",
            "[29] avg loss: 2.3651157983409585, avg test loss: 2.344483502705892,\n",
            "              train accuracy: 0.09603340292275574, test accuracy: 0.11666666666666667\n",
            "              \n",
            "[30] avg loss: 2.364401121477991, avg test loss: 2.344483502705892,\n",
            "              train accuracy: 0.09672929714683368, test accuracy: 0.11666666666666667\n",
            "              \n",
            "[31] avg loss: 2.3651167664498027, avg test loss: 2.3444675432311164,\n",
            "              train accuracy: 0.09603340292275574, test accuracy: 0.11666666666666667\n",
            "              \n",
            "[32] avg loss: 2.3651167664498027, avg test loss: 2.344483502705892,\n",
            "              train accuracy: 0.09603340292275574, test accuracy: 0.11666666666666667\n",
            "              \n",
            "[33] avg loss: 2.3651156556548223, avg test loss: 2.3444820794794294,\n",
            "              train accuracy: 0.09603340292275574, test accuracy: 0.11666666666666667\n",
            "              \n",
            "[34] avg loss: 2.365115831191953, avg test loss: 2.341705724928114,\n",
            "              train accuracy: 0.09603340292275574, test accuracy: 0.11944444444444445\n",
            "              \n",
            "[35] avg loss: 2.366508472106817, avg test loss: 2.344483498732249,\n",
            "              train accuracy: 0.09464161447459986, test accuracy: 0.11666666666666667\n",
            "              \n",
            "[36] avg loss: 2.3591606937188114, avg test loss: 2.3667057189676495,\n",
            "              train accuracy: 0.10160055671537926, test accuracy: 0.09444444444444444\n",
            "              \n",
            "[37] avg loss: 2.3595496126571796, avg test loss: 2.366705724928114,\n",
            "              train accuracy: 0.10160055671537926, test accuracy: 0.09444444444444444\n",
            "              \n",
            "[38] avg loss: 2.3595496126571796, avg test loss: 2.366705724928114,\n",
            "              train accuracy: 0.10160055671537926, test accuracy: 0.09444444444444444\n",
            "              \n",
            "[39] avg loss: 2.3595496126571796, avg test loss: 2.366705724928114,\n",
            "              train accuracy: 0.10160055671537926, test accuracy: 0.09444444444444444\n",
            "              \n",
            "[40] avg loss: 2.3595496126571796, avg test loss: 2.366705724928114,\n",
            "              train accuracy: 0.10160055671537926, test accuracy: 0.09444444444444444\n",
            "              \n",
            "[41] avg loss: 2.3595496126571796, avg test loss: 2.366705724928114,\n",
            "              train accuracy: 0.10160055671537926, test accuracy: 0.09444444444444444\n",
            "              \n",
            "[42] avg loss: 2.3595496126571796, avg test loss: 2.366705724928114,\n",
            "              train accuracy: 0.10160055671537926, test accuracy: 0.09444444444444444\n",
            "              \n",
            "[43] avg loss: 2.3595496126571796, avg test loss: 2.366705724928114,\n",
            "              train accuracy: 0.10160055671537926, test accuracy: 0.09444444444444444\n",
            "              \n",
            "[44] avg loss: 2.3594759331864457, avg test loss: 2.366705724928114,\n",
            "              train accuracy: 0.10160055671537926, test accuracy: 0.09444444444444444\n",
            "              \n",
            "[45] avg loss: 2.3595496126571796, avg test loss: 2.3667057209544713,\n",
            "              train accuracy: 0.10160055671537926, test accuracy: 0.09444444444444444\n",
            "              \n",
            "[46] avg loss: 2.3578395156621434, avg test loss: 2.366705724928114,\n",
            "              train accuracy: 0.10299234516353514, test accuracy: 0.09444444444444444\n",
            "              \n",
            "[47] avg loss: 2.3573780969023788, avg test loss: 2.366705724928114,\n",
            "              train accuracy: 0.10368823938761308, test accuracy: 0.09444444444444444\n",
            "              \n",
            "[48] avg loss: 2.358848171592505, avg test loss: 2.36637069384257,\n",
            "              train accuracy: 0.1022964509394572, test accuracy: 0.09444444444444444\n",
            "              \n",
            "[49] avg loss: 2.35954854267707, avg test loss: 2.3634619845284357,\n",
            "              train accuracy: 0.10160055671537926, test accuracy: 0.09722222222222222\n",
            "              \n",
            "[50] avg loss: 2.3587369852457596, avg test loss: 2.366705724928114,\n",
            "              train accuracy: 0.1022964509394572, test accuracy: 0.09444444444444444\n",
            "              \n",
            "[51] avg loss: 2.3588537184331013, avg test loss: 2.366705724928114,\n",
            "              train accuracy: 0.1022964509394572, test accuracy: 0.09444444444444444\n",
            "              \n",
            "[52] avg loss: 2.3579866230778173, avg test loss: 2.366705724928114,\n",
            "              train accuracy: 0.10299234516353514, test accuracy: 0.09444444444444444\n",
            "              \n",
            "[53] avg loss: 2.358845061864302, avg test loss: 2.366705724928114,\n",
            "              train accuracy: 0.1022964509394572, test accuracy: 0.09444444444444444\n",
            "              \n",
            "[54] avg loss: 2.3595496126571796, avg test loss: 2.366705724928114,\n",
            "              train accuracy: 0.10160055671537926, test accuracy: 0.09444444444444444\n",
            "              \n",
            "[55] avg loss: 2.3595496126571796, avg test loss: 2.366705724928114,\n",
            "              train accuracy: 0.10160055671537926, test accuracy: 0.09444444444444444\n",
            "              \n",
            "[56] avg loss: 2.3588377548408905, avg test loss: 2.366705724928114,\n",
            "              train accuracy: 0.1022964509394572, test accuracy: 0.09444444444444444\n",
            "              \n",
            "[57] avg loss: 2.3581578242090235, avg test loss: 2.3639279471503363,\n",
            "              train accuracy: 0.10299234516353514, test accuracy: 0.09722222222222222\n",
            "              \n",
            "[58] avg loss: 2.3595496126571796, avg test loss: 2.366705724928114,\n",
            "              train accuracy: 0.10160055671537926, test accuracy: 0.09444444444444444\n",
            "              \n",
            "[59] avg loss: 2.3595474463166175, avg test loss: 2.3639153295093114,\n",
            "              train accuracy: 0.10160055671537926, test accuracy: 0.09722222222222222\n",
            "              \n",
            "[60] avg loss: 2.3588537184331013, avg test loss: 2.366705716980828,\n",
            "              train accuracy: 0.1022964509394572, test accuracy: 0.09444444444444444\n",
            "              \n",
            "[61] avg loss: 2.3588537184331013, avg test loss: 2.3611501693725585,\n",
            "              train accuracy: 0.1022964509394572, test accuracy: 0.1\n",
            "              \n",
            "[62] avg loss: 2.3595496126571796, avg test loss: 2.3667057209544713,\n",
            "              train accuracy: 0.10160055671537926, test accuracy: 0.09444444444444444\n",
            "              \n",
            "[63] avg loss: 2.3580744107232463, avg test loss: 2.3611501693725585,\n",
            "              train accuracy: 0.10299234516353514, test accuracy: 0.1\n",
            "              \n",
            "[64] avg loss: 2.358159534368734, avg test loss: 2.3639279471503363,\n",
            "              train accuracy: 0.10299234516353514, test accuracy: 0.09722222222222222\n",
            "              \n",
            "[65] avg loss: 2.3567610281411357, avg test loss: 2.3639279471503363,\n",
            "              train accuracy: 0.10438413361169102, test accuracy: 0.09722222222222222\n",
            "              \n",
            "[66] avg loss: 2.3574619299849453, avg test loss: 2.366705724928114,\n",
            "              train accuracy: 0.10368823938761308, test accuracy: 0.09444444444444444\n",
            "              \n",
            "[67] avg loss: 2.3595496126571796, avg test loss: 2.366705724928114,\n",
            "              train accuracy: 0.10160055671537926, test accuracy: 0.09444444444444444\n",
            "              \n",
            "[68] avg loss: 2.358829826469129, avg test loss: 2.366705724928114,\n",
            "              train accuracy: 0.1022964509394572, test accuracy: 0.09444444444444444\n",
            "              \n",
            "[69] avg loss: 2.3595496126571796, avg test loss: 2.363914906978607,\n",
            "              train accuracy: 0.10160055671537926, test accuracy: 0.09722222222222222\n",
            "              \n"
          ]
        }
      ],
      "source": [
        "test_acc_hist,train_acc_hist,test_loss_hist,train_loss_hist = train(model_0,70,xtrain,ytrain,xtest,ytest,learning_rate=0.006)\n"
      ]
    },
    {
      "cell_type": "code",
      "execution_count": 46,
      "metadata": {
        "colab": {
          "base_uri": "https://localhost:8080/",
          "height": 573
        },
        "id": "CmghyUJw8X1k",
        "outputId": "328b566a-b62c-4ae8-c6b0-29c947ad7bf1"
      },
      "outputs": [
        {
          "output_type": "display_data",
          "data": {
            "text/plain": [
              "<Figure size 432x288 with 1 Axes>"
            ],
            "image/png": "[encoded data removed]"
          },
          "metadata": {
            "needs_background": "light"
          }
        },
        {
          "output_type": "display_data",
          "data": {
            "text/plain": [
              "<Figure size 432x288 with 1 Axes>"
            ],
            "image/png": "[encoded data removed]"
          },
          "metadata": {
            "needs_background": "light"
          }
        }
      ],
      "source": [
        "plt.plot(train_loss_hist,label=\"mean loss function of training data\")\n",
        "plt.plot(test_loss_hist, label=\"mean loss function of test data\")\n",
        "plt.legend()\n",
        "plt.title(\"performance mesurment of model\")\n",
        "plt.xlabel(\"epoch\")\n",
        "plt.ylabel(\"loss\")\n",
        "plt.show()\n",
        "\n",
        "plt.plot(test_acc_hist, label=\"accuracy of prediction on test data\")\n",
        "plt.plot(train_acc_hist, label=\"accuracy of prediction on train data\")\n",
        "plt.legend()\n",
        "plt.title(\"performance mesurment of model\")\n",
        "plt.xlabel(\"epoch\")\n",
        "plt.ylabel(\"accuracy\")\n",
        "plt.show()"
      ]
    },
    {
      "cell_type": "code",
      "execution_count": 47,
      "metadata": {
        "id": "koH5HP1T8X1k"
      },
      "outputs": [],
      "source": [
        "path = \"./numbers_model.pth\"\n",
        "torch.save(model_0.state_dict(), path) "
      ]
    }
  ],
  "metadata": {
    "accelerator": "GPU",
    "colab": {
      "provenance": []
    },
    "gpuClass": "standard",
    "kernelspec": {
      "display_name": "Python 3",
      "language": "python",
      "name": "python3"
    },
    "language_info": {
      "codemirror_mode": {
        "name": "ipython",
        "version": 3
      },
      "file_extension": ".py",
      "mimetype": "text/x-python",
      "name": "python",
      "nbconvert_exporter": "python",
      "pygments_lexer": "ipython3",
      "version": "3.9.13"
    },
    "orig_nbformat": 4,
    "vscode": {
      "interpreter": {
        "hash": "44f60aa086402613a6cefbfbd09cba7fdaab965cd6fb59a8433a72af4ce50381"
      }
    }
  },
  "nbformat": 4,
  "nbformat_minor": 0
}